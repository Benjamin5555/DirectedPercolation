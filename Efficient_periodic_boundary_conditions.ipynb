{
  "nbformat": 4,
  "nbformat_minor": 0,
  "metadata": {
    "colab": {
      "name": "Efficient periodic boundary conditions",
      "provenance": [],
      "collapsed_sections": [],
      "authorship_tag": "ABX9TyNjxMZq7xybM5Fu/YvIGMTD",
      "include_colab_link": true
    },
    "kernelspec": {
      "name": "python3",
      "display_name": "Python 3"
    }
  },
  "cells": [
    {
      "cell_type": "markdown",
      "metadata": {
        "id": "view-in-github",
        "colab_type": "text"
      },
      "source": [
        "<a href=\"https://colab.research.google.com/github/Benjamin5555/DirectedPercolation/blob/master/Efficient_periodic_boundary_conditions.ipynb\" target=\"_parent\"><img src=\"https://colab.research.google.com/assets/colab-badge.svg\" alt=\"Open In Colab\"/></a>"
      ]
    },
    {
      "cell_type": "code",
      "metadata": {
        "id": "wK1z21DaIL2N"
      },
      "source": [
        "import numpy as np\n",
        "import math\n",
        "from time import time"
      ],
      "execution_count": 1,
      "outputs": []
    },
    {
      "cell_type": "markdown",
      "metadata": {
        "id": "bw7JzE1dmzXp"
      },
      "source": [
        "# Various different implementations, including that used in final system"
      ]
    },
    {
      "cell_type": "code",
      "metadata": {
        "id": "iw8ejlU5IWhX"
      },
      "source": [
        "def methodA(N):\n",
        "    precalcA = np.zeros((N,N))\n",
        "    for i in range(0,N):\n",
        "        for j in range(0,N):\n",
        "            ij = abs(i-j)\n",
        "            if (ij <=N/2):\n",
        "                    precalcA[i][j] =ij\n",
        "            elif(i>j):\n",
        "                precalcA[i][j] = N-i+j\n",
        "            elif(i<=j):\n",
        "                precalcA[i][j]= N-j+i\n",
        "\n",
        "\n",
        "    return precalcA\n"
      ],
      "execution_count": 2,
      "outputs": []
    },
    {
      "cell_type": "code",
      "metadata": {
        "id": "CkrWlaZ3KCIm"
      },
      "source": [
        "def methodB(N):\n",
        "    precalcB = np.zeros((N,N))\n",
        "    for i in range(0,N):\n",
        "        j=0\n",
        "        while(j<i):\n",
        "            ij = abs(i-j)\n",
        "            if (ij <=N/2):\n",
        "                    precalcB[i][j] =ij\n",
        "            elif(i>j):\n",
        "                precalcB[i][j] = N-i+j\n",
        "            elif(i<=j):\n",
        "                precalcB[i][j]= N-j+i\n",
        "            j=j+1\n",
        "\n",
        "    for i in range(0,N):\n",
        "        for j in range(i,N):\n",
        "            precalcB[i][j] =precalcB[j][i]\n",
        "        \n",
        "\n",
        "    return precalcB"
      ],
      "execution_count": 3,
      "outputs": []
    },
    {
      "cell_type": "code",
      "metadata": {
        "id": "UBUazvD4S4Vp"
      },
      "source": [
        "def fLen(k):\n",
        "    return int(k*(k+1)/2)\n",
        "\n",
        "def arrToFlat(i,j):\n",
        "    \"\"\"\n",
        "https://www.geeksforgeeks.org/convert-given-lower-triangular-matrix-to-1d-array/\n",
        "    \"\"\"\n",
        "    if i>=j:\n",
        "        return int(((i+1)*i)/2+j)\n",
        "    else:\n",
        "        return int(((j+1)*j)/2+i)\n",
        "\n",
        "def old_flat_method(N):\n",
        "\n",
        "    pcF = np.ones(arrToFlat(N,N))\n",
        "    #print(pcF)\n",
        "\n",
        "    for i in range(0,N):\n",
        "        j=0\n",
        "        while(j<=i):\n",
        "            \n",
        "            ij = abs(i-j)\n",
        "\n",
        "            if (ij <=N/2):\n",
        "                pcF[arrToFlat(i,j)]= ij\n",
        "            elif(ij>N/2):\n",
        "                #print(i,j,arrToFlat(i,j),N-i+j)\n",
        "                pcF[arrToFlat(i,j)]= N-i+j\n",
        "            #print(i,j,pcF[i+j])\n",
        "            j=j+1\n",
        "\n",
        "\n",
        "    return pcF\n",
        "\n"
      ],
      "execution_count": 4,
      "outputs": []
    },
    {
      "cell_type": "code",
      "metadata": {
        "id": "nFPTIwcxX5uC"
      },
      "source": [
        "def methodC(N):\n",
        "    pcF = old_flat_method(N) \n",
        "    precalcC = np.zeros((N,N))\n",
        "    for i in range(0,N):\n",
        "        for j in range(0,N):\n",
        "        # print((i,j))\n",
        "            precalcC[i][j] =pcF[arrToFlat(i,j)]\n",
        "\n",
        "    return precalcC"
      ],
      "execution_count": 5,
      "outputs": []
    },
    {
      "cell_type": "markdown",
      "metadata": {
        "id": "b9eVQ7xfnBM5"
      },
      "source": [
        "## Implemented function"
      ]
    },
    {
      "cell_type": "code",
      "metadata": {
        "id": "VXLq80cyYOKE"
      },
      "source": [
        "def index2Dto1D(i,j):\n",
        "     return abs(i-j-N*int(2*(i-j)/N))\n",
        "\n",
        "def imp_method(N):\n",
        "    precalcS = []\n",
        "    for i in range(N):\n",
        "        if(i<N/2):\n",
        "            #print(i,i)\n",
        "            precalcS.append(i)\n",
        "        else:\n",
        "            #print(i,N-i)\n",
        "            precalcS.append(N-i)\n",
        "    return precalcS"
      ],
      "execution_count": 6,
      "outputs": []
    },
    {
      "cell_type": "code",
      "metadata": {
        "id": "XW8nlFJYa81O"
      },
      "source": [
        "def imp_to_full(N):\n",
        "    fullTestS = np.ones((N,N))*-1\n",
        "    precalcS = imp_method(N)\n",
        "    for i in range(N):\n",
        "        for j in range(N):\n",
        "            \n",
        "            fullTestS[i][j] =precalcS[index2Dto1D(i,j)]\n",
        "\n",
        "    return fullTestS\n"
      ],
      "execution_count": 7,
      "outputs": []
    },
    {
      "cell_type": "markdown",
      "metadata": {
        "id": "gt477tW0nJ7x"
      },
      "source": [
        "# Testing of methods and output of program"
      ]
    },
    {
      "cell_type": "code",
      "metadata": {
        "id": "_Y5kLABMfrF8"
      },
      "source": [
        "N=4"
      ],
      "execution_count": 8,
      "outputs": []
    },
    {
      "cell_type": "code",
      "metadata": {
        "id": "0aYu3lV6mXPU"
      },
      "source": [
        "N4_Out = \\\n",
        "[[0.000000,1.000000,2.000000,1.000000],\n",
        "[1.000000,0.000000,1.000000,2.000000],\n",
        "[2.000000,1.000000,0.000000,1.000000],\n",
        "[1.000000,2.000000,1.000000,0.000000]]\n"
      ],
      "execution_count": 9,
      "outputs": []
    },
    {
      "cell_type": "code",
      "metadata": {
        "id": "cgTJlYyONxRD",
        "colab": {
          "base_uri": "https://localhost:8080/"
        },
        "outputId": "9770fd03-e3ce-48ce-8171-2b012f5f7612"
      },
      "source": [
        "print((methodA(N)==imp_to_full(N)).all())\n",
        "print((imp_to_full(N)==methodB(N)).all())\n",
        "print((imp_to_full(N)==methodC(N)).all())\n",
        "print((imp_to_full(N) == N4_Out).all())"
      ],
      "execution_count": 10,
      "outputs": [
        {
          "output_type": "stream",
          "text": [
            "True\n",
            "True\n",
            "True\n",
            "True\n"
          ],
          "name": "stdout"
        }
      ]
    },
    {
      "cell_type": "code",
      "metadata": {
        "id": "GGraka0zQfw4"
      },
      "source": [
        "N=5"
      ],
      "execution_count": 11,
      "outputs": []
    },
    {
      "cell_type": "code",
      "metadata": {
        "id": "B3eNr4nKmQ2s"
      },
      "source": [
        "N5_Out = \\\n",
        "[[0.000000,1.000000,2.000000,2.000000,1.000000],\n",
        "[1.000000,0.000000,1.000000,2.000000,2.000000],\n",
        "[2.000000,1.000000,0.000000,1.000000,2.000000],\n",
        "[2.000000,2.000000,1.000000,0.000000,1.000000],\n",
        "[1.000000,2.000000,2.000000,1.000000,0.000000]]"
      ],
      "execution_count": 12,
      "outputs": []
    },
    {
      "cell_type": "code",
      "metadata": {
        "id": "FxNC8t79QQpb",
        "outputId": "134915cb-9259-4170-f5a8-1dca15aac649",
        "colab": {
          "base_uri": "https://localhost:8080/"
        }
      },
      "source": [
        "print((methodA(N)==imp_to_full(N)).all())\n",
        "print((imp_to_full(N)==methodB(N)).all())\n",
        "print((imp_to_full(N)==methodC(N)).all())\n",
        "print((imp_to_full(N) == N5_Out).all())"
      ],
      "execution_count": 14,
      "outputs": [
        {
          "output_type": "stream",
          "text": [
            "True\n",
            "True\n",
            "True\n",
            "True\n"
          ],
          "name": "stdout"
        }
      ]
    },
    {
      "cell_type": "code",
      "metadata": {
        "id": "SAvwaamBodMV"
      },
      "source": [
        "def tests(N):\n",
        "    assert((methodA(N)==imp_to_full(N)).all())\n",
        "    assert((imp_to_full(N)==methodB(N)).all())\n",
        "    assert((imp_to_full(N)==methodC(N)).all())\n",
        "\n",
        "count = 0\n",
        "while (count< 50):\n",
        "    N = np.random.randint(0,100)\n",
        "   \n",
        "    tests(N)\n",
        "    count = count +1"
      ],
      "execution_count": 23,
      "outputs": []
    },
    {
      "cell_type": "code",
      "metadata": {
        "id": "FiJchhBOpRmb"
      },
      "source": [
        ""
      ],
      "execution_count": null,
      "outputs": []
    }
  ]
}