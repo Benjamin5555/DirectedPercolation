{
  "nbformat": 4,
  "nbformat_minor": 0,
  "metadata": {
    "colab": {
      "name": "Efficient periodic boundary conditions",
      "provenance": [],
      "collapsed_sections": [],
      "authorship_tag": "ABX9TyNYt2M+gP7xfzF6xVbYejp3",
      "include_colab_link": true
    },
    "kernelspec": {
      "name": "python3",
      "display_name": "Python 3"
    }
  },
  "cells": [
    {
      "cell_type": "markdown",
      "metadata": {
        "id": "view-in-github",
        "colab_type": "text"
      },
      "source": [
        "<a href=\"https://colab.research.google.com/github/Benjamin5555/DirectedPercolation/blob/master/Efficient_periodic_boundary_conditions.ipynb\" target=\"_parent\"><img src=\"https://colab.research.google.com/assets/colab-badge.svg\" alt=\"Open In Colab\"/></a>"
      ]
    },
    {
      "cell_type": "code",
      "metadata": {
        "id": "wK1z21DaIL2N"
      },
      "source": [
        "import numpy as np\n",
        "import math\n",
        "from time import time"
      ],
      "execution_count": 1,
      "outputs": []
    },
    {
      "cell_type": "markdown",
      "metadata": {
        "id": "bw7JzE1dmzXp"
      },
      "source": [
        "# Various different implementations, including that used in final system"
      ]
    },
    {
      "cell_type": "code",
      "metadata": {
        "id": "iw8ejlU5IWhX"
      },
      "source": [
        "def methodA(N,Sigma=0):\n",
        "    precalcA = np.zeros((N,N))\n",
        "    for i in range(0,N):\n",
        "        for j in range(0,N):\n",
        "            ij = abs(i-j)\n",
        "            if (ij <=N/2):\n",
        "                    precalcA[i][j] =ij**(Sigma+1)\n",
        "            elif(i>j):\n",
        "                precalcA[i][j] = (N-i+j)**(Sigma+1)\n",
        "            elif(i<=j):\n",
        "                precalcA[i][j]= (N-j+i)**(Sigma+1)\n",
        "\n",
        "\n",
        "    return precalcA\n"
      ],
      "execution_count": 2,
      "outputs": []
    },
    {
      "cell_type": "code",
      "metadata": {
        "id": "CkrWlaZ3KCIm"
      },
      "source": [
        "def methodB(N,Sigma=0):\n",
        "    precalcB = np.zeros((N,N))\n",
        "    for i in range(0,N):\n",
        "        j=0\n",
        "        while(j<i):\n",
        "            ij = abs(i-j)\n",
        "            if (ij <=N/2):\n",
        "                    precalcB[i][j] =ij**(Sigma+1)\n",
        "            elif(i>j):\n",
        "                precalcB[i][j] = (N-i+j)**(Sigma+1)\n",
        "            elif(i<=j):\n",
        "                precalcB[i][j]= (N-j+i)**(Sigma+1)\n",
        "            j=j+1\n",
        "\n",
        "    for i in range(0,N):\n",
        "        for j in range(i,N):\n",
        "            precalcB[i][j] =precalcB[j][i]\n",
        "        \n",
        "\n",
        "    return precalcB"
      ],
      "execution_count": 3,
      "outputs": []
    },
    {
      "cell_type": "code",
      "metadata": {
        "id": "UBUazvD4S4Vp"
      },
      "source": [
        "def fLen(k):\n",
        "    return int(k*(k+1)/2)\n",
        "\n",
        "def arrToFlat(i,j):\n",
        "    \"\"\"\n",
        "https://www.geeksforgeeks.org/convert-given-lower-triangular-matrix-to-1d-array/\n",
        "    \"\"\"\n",
        "    if i>=j:\n",
        "        return int(((i+1)*i)/2+j)\n",
        "    else:\n",
        "        return int(((j+1)*j)/2+i)\n",
        "\n",
        "def old_flat_method(N,Sigma=0):\n",
        "\n",
        "    pcF = np.ones(arrToFlat(N,N))\n",
        "    #print(pcF)\n",
        "\n",
        "    for i in range(0,N):\n",
        "        j=0\n",
        "        while(j<=i):\n",
        "            \n",
        "            ij = abs(i-j)\n",
        "\n",
        "            if (ij <=N/2):\n",
        "                pcF[arrToFlat(i,j)]= ij**(Sigma+1)\n",
        "            elif(ij>N/2):\n",
        "                #print(i,j,arrToFlat(i,j),N-i+j)\n",
        "                pcF[arrToFlat(i,j)]= (N-i+j)**(Sigma+1)\n",
        "            #print(i,j,pcF[i+j])\n",
        "            j=j+1\n",
        "\n",
        "\n",
        "    return pcF\n",
        "\n"
      ],
      "execution_count": 4,
      "outputs": []
    },
    {
      "cell_type": "code",
      "metadata": {
        "id": "nFPTIwcxX5uC"
      },
      "source": [
        "def methodC(N,Sigma=0):\n",
        "\n",
        "    pcF = old_flat_method(N,Sigma) \n",
        "    precalcC = np.zeros((N,N))\n",
        "    for i in range(0,N):\n",
        "        for j in range(0,N):\n",
        "        # print((i,j))\n",
        "            precalcC[i][j] =pcF[arrToFlat(i,j)]\n",
        "\n",
        "    return precalcC"
      ],
      "execution_count": 5,
      "outputs": []
    },
    {
      "cell_type": "markdown",
      "metadata": {
        "id": "b9eVQ7xfnBM5"
      },
      "source": [
        "## Implemented function"
      ]
    },
    {
      "cell_type": "code",
      "metadata": {
        "id": "VXLq80cyYOKE"
      },
      "source": [
        "\n",
        "def index2Dto1D(i,j):\n",
        "     return abs(i-j-N*(int(2*(i-j)/N)));\n",
        "\n",
        "def imp_method(N,Sigma=0):\n",
        "    precalcS  = np.ones(int((N/2)+1))\n",
        "    for i in range(len(precalcS)):\n",
        "        if(i<N/2+1):\n",
        "            #print(i,i)\n",
        "            precalcS[i]=(i**(Sigma+1))\n",
        "\n",
        "    return precalcS\n",
        "\n"
      ],
      "execution_count": 6,
      "outputs": []
    },
    {
      "cell_type": "code",
      "metadata": {
        "id": "XW8nlFJYa81O"
      },
      "source": [
        "def imp_to_full(N,Sigma=0):\n",
        "    fullTestS = np.ones((N,N))*-1\n",
        "    precalcS = imp_method(N,Sigma)\n",
        "    for i in range(N):\n",
        "        for j in range(N):\n",
        "\n",
        "            fullTestS[i][j] =precalcS[index2Dto1D(i,j)]\n",
        "        \n",
        "    return fullTestS"
      ],
      "execution_count": 7,
      "outputs": []
    },
    {
      "cell_type": "markdown",
      "metadata": {
        "id": "gt477tW0nJ7x"
      },
      "source": [
        "# Testing of methods and output of program"
      ]
    },
    {
      "cell_type": "code",
      "metadata": {
        "id": "_Y5kLABMfrF8"
      },
      "source": [
        "N=4"
      ],
      "execution_count": 8,
      "outputs": []
    },
    {
      "cell_type": "code",
      "metadata": {
        "id": "0aYu3lV6mXPU"
      },
      "source": [
        "N4_Out = \\\n",
        "[[0.000000,1.000000,2.000000,1.000000],\n",
        "[1.000000,0.000000,1.000000,2.000000],\n",
        "[2.000000,1.000000,0.000000,1.000000],\n",
        "[1.000000,2.000000,1.000000,0.000000]]\n"
      ],
      "execution_count": 9,
      "outputs": []
    },
    {
      "cell_type": "code",
      "metadata": {
        "id": "cgTJlYyONxRD",
        "colab": {
          "base_uri": "https://localhost:8080/"
        },
        "outputId": "3abd509d-4731-4ef4-d042-23e7bd2f1e33"
      },
      "source": [
        "print((methodA(N)==imp_to_full(N)).all())\n",
        "print((imp_to_full(N)==methodB(N)).all())\n",
        "print((imp_to_full(N)==methodC(N)).all())\n",
        "print((imp_to_full(N) == N4_Out).all())\n"
      ],
      "execution_count": 10,
      "outputs": [
        {
          "output_type": "stream",
          "text": [
            "True\n",
            "True\n",
            "True\n",
            "True\n"
          ],
          "name": "stdout"
        }
      ]
    },
    {
      "cell_type": "code",
      "metadata": {
        "id": "GGraka0zQfw4"
      },
      "source": [
        "N=5"
      ],
      "execution_count": 11,
      "outputs": []
    },
    {
      "cell_type": "code",
      "metadata": {
        "id": "B3eNr4nKmQ2s",
        "outputId": "39b0966b-1dad-4f24-f82e-206e3754e412",
        "colab": {
          "base_uri": "https://localhost:8080/"
        }
      },
      "source": [
        "N5_Out = \\\n",
        "[[0.000000,1.000000,2.000000,2.000000,1.000000],\n",
        "[1.000000,0.000000,1.000000,2.000000,2.000000],\n",
        "[2.000000,1.000000,0.000000,1.000000,2.000000],\n",
        "[2.000000,2.000000,1.000000,0.000000,1.000000],\n",
        "[1.000000,2.000000,2.000000,1.000000,0.000000]]\n",
        "\n",
        "print((methodA(N) ==methodB(N)).all())\n",
        "print((methodA(N) ==methodC(N)).all())\n",
        "print((methodA(N)==imp_to_full(N)).all())\n",
        "print((imp_to_full(N)==methodB(N)).all())\n",
        "print((imp_to_full(N)==methodC(N)).all())\n",
        "print((imp_to_full(N) == N5_Out).all())"
      ],
      "execution_count": 12,
      "outputs": [
        {
          "output_type": "stream",
          "text": [
            "True\n",
            "True\n",
            "True\n",
            "True\n",
            "True\n",
            "True\n"
          ],
          "name": "stdout"
        }
      ]
    },
    {
      "cell_type": "code",
      "metadata": {
        "id": "FxNC8t79QQpb"
      },
      "source": [
        ""
      ],
      "execution_count": 12,
      "outputs": []
    },
    {
      "cell_type": "code",
      "metadata": {
        "id": "SAvwaamBodMV"
      },
      "source": [
        "def tests(N,si):\n",
        "    assert((methodA(N,si)==imp_to_full(N,si)).all())\n",
        "    assert((imp_to_full(N,si)==methodB(N,si)).all())\n",
        "    assert((imp_to_full(N,si)==methodC(N,si)).all())\n",
        "\n",
        "count = 0\n",
        "while (count< 50):\n",
        "    N = np.random.randint(0,100)\n",
        "    si = np.random.randint(0,10)\n",
        "    tests(N,si)\n",
        "    count = count +1"
      ],
      "execution_count": 13,
      "outputs": []
    },
    {
      "cell_type": "code",
      "metadata": {
        "id": "FiJchhBOpRmb"
      },
      "source": [
        "N=8\n",
        "N8_Out = [\n",
        " [0,1,2,3,4,3,2,1],\n",
        " [1,0,1,2,3,4,3,2],\n",
        " [2,1,0,1,2,3,4,3],\n",
        " [3,2,1,0,1,2,3,4],\n",
        " [4,3,2,1,0,1,2,3],\n",
        " [3,4,3,2,1,0,1,2],\n",
        " [2,3,4,3,2,1,0,1],\n",
        " [1,2,3,4,3,2,1,0]]"
      ],
      "execution_count": 14,
      "outputs": []
    },
    {
      "cell_type": "code",
      "metadata": {
        "id": "Tb1lhKkB7ezS",
        "outputId": "c062f340-2141-4db4-e429-9cfb51a0190e",
        "colab": {
          "base_uri": "https://localhost:8080/"
        }
      },
      "source": [
        "\n",
        "print((methodA(N)==imp_to_full(N)).all())\n",
        "print((imp_to_full(N)==methodB(N)).all())\n",
        "print((imp_to_full(N)==methodC(N)).all())\n",
        "print((imp_to_full(N) == N8_Out).all())"
      ],
      "execution_count": 15,
      "outputs": [
        {
          "output_type": "stream",
          "text": [
            "True\n",
            "True\n",
            "True\n",
            "True\n"
          ],
          "name": "stdout"
        }
      ]
    },
    {
      "cell_type": "code",
      "metadata": {
        "id": "S4kprnxc7hKt"
      },
      "source": [
        "N=9\n",
        "N9_Out = [\n",
        "    [0,1,2,3,4,4,3,2,1],\n",
        "    [1,0,1,2,3,4,4,3,2],\n",
        "    [2,1,0,1,2,3,4,4,3],\n",
        "    [3,2,1,0,1,2,3,4,4],\n",
        "    [4,3,2,1,0,1,2,3,4],\n",
        "    [4,4,3,2,1,0,1,2,3],\n",
        "    [3,4,4,3,2,1,0,1,2],\n",
        "    [2,3,4,4,3,2,1,0,1],\n",
        "    [1,2,3,4,4,3,2,1,0]]"
      ],
      "execution_count": 16,
      "outputs": []
    },
    {
      "cell_type": "code",
      "metadata": {
        "id": "KKofpPT_DJff",
        "outputId": "d3e45e0b-fbd3-450f-be61-297cabdcec90",
        "colab": {
          "base_uri": "https://localhost:8080/"
        }
      },
      "source": [
        "print((methodA(N)==imp_to_full(N)).all())\n",
        "print((imp_to_full(N)==methodB(N)).all())\n",
        "print((imp_to_full(N)==methodC(N)).all())\n",
        "print((imp_to_full(N) == N9_Out).all())"
      ],
      "execution_count": 17,
      "outputs": [
        {
          "output_type": "stream",
          "text": [
            "True\n",
            "True\n",
            "True\n",
            "True\n"
          ],
          "name": "stdout"
        }
      ]
    },
    {
      "cell_type": "code",
      "metadata": {
        "id": "gfrijXy-DNwv"
      },
      "source": [
        "\n",
        "N9_12 = [[0,1,8192,1594323,67108864,67108864,1594323,8192,1],\n",
        "[1,0,1,8192,1594323,67108864,67108864,1594323,8192],\n",
        "[8192,1,0,1,8192,1594323,67108864,67108864,1594323],\n",
        "[1594323,8192,1,0,1,8192,1594323,67108864,67108864],\n",
        "[67108864,1594323,8192,1,0,1,8192,1594323,67108864],\n",
        "[67108864,67108864,1594323,8192,1,0,1,8192,1594323],\n",
        "[1594323,67108864,67108864,1594323,8192,1,0,1,8192],\n",
        "[8192,1594323,67108864,67108864,1594323,8192,1,0,1],\n",
        "[1,8192,1594323,67108864,67108864,1594323,8192,1,0]]"
      ],
      "execution_count": 18,
      "outputs": []
    },
    {
      "cell_type": "code",
      "metadata": {
        "id": "W8TT7sr2EyXR",
        "outputId": "a1968dec-9b4e-4991-b4ff-5cb819874b5f",
        "colab": {
          "base_uri": "https://localhost:8080/"
        }
      },
      "source": [
        "print((methodA(N,12)==imp_to_full(N,12)).all())\n",
        "print((imp_to_full(N,12)==methodB(N,12)).all())\n",
        "print((imp_to_full(N,12) == N9_12).all())\n"
      ],
      "execution_count": 19,
      "outputs": [
        {
          "output_type": "stream",
          "text": [
            "True\n",
            "True\n",
            "True\n"
          ],
          "name": "stdout"
        }
      ]
    },
    {
      "cell_type": "code",
      "metadata": {
        "id": "5depCmizE8UD",
        "outputId": "13e8817a-bdd0-4bdc-c733-bdb8defde62e",
        "colab": {
          "base_uri": "https://localhost:8080/"
        }
      },
      "source": [
        "N = 8 \n",
        "SI = 13\n",
        "N8_13 =[\n",
        "[0,1,16384,4782969,268435456,4782969,16384,1],\n",
        "[1,0,1,16384,4782969,268435456,4782969,16384],\n",
        "[16384,1,0,1,16384,4782969,268435456,4782969],\n",
        "[4782969,16384,1,0,1,16384,4782969,268435456],\n",
        "[268435456,4782969,16384,1,0,1,16384,4782969],\n",
        "[4782969,268435456,4782969,16384,1,0,1,16384],\n",
        "[16384,4782969,268435456,4782969,16384,1,0,1],\n",
        "[1,16384,4782969,268435456,4782969,16384,1,0]]\n",
        "\n",
        "\n",
        "print((methodA(N,SI)==imp_to_full(N,SI)).all())\n",
        "print((imp_to_full(N,SI)==methodB(N,SI)).all())\n",
        "print((imp_to_full(N,SI).astype(int) == N8_13).all())"
      ],
      "execution_count": 30,
      "outputs": [
        {
          "output_type": "stream",
          "text": [
            "True\n",
            "True\n",
            "True\n"
          ],
          "name": "stdout"
        }
      ]
    },
    {
      "cell_type": "code",
      "metadata": {
        "id": "EuaT2EYiIp5R"
      },
      "source": [
        "}"
      ],
      "execution_count": 20,
      "outputs": []
    }
  ]
}