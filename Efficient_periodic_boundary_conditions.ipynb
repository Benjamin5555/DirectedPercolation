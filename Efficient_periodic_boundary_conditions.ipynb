{
  "nbformat": 4,
  "nbformat_minor": 0,
  "metadata": {
    "colab": {
      "name": "Efficient periodic boundary conditions",
      "provenance": [],
      "collapsed_sections": [],
      "authorship_tag": "ABX9TyMYXDakz8CaqjLuWEKQCfKe",
      "include_colab_link": true
    },
    "kernelspec": {
      "name": "python3",
      "display_name": "Python 3"
    }
  },
  "cells": [
    {
      "cell_type": "markdown",
      "metadata": {
        "id": "view-in-github",
        "colab_type": "text"
      },
      "source": [
        "<a href=\"https://colab.research.google.com/github/Benjamin5555/DirectedPercolation/blob/master/Efficient_periodic_boundary_conditions.ipynb\" target=\"_parent\"><img src=\"https://colab.research.google.com/assets/colab-badge.svg\" alt=\"Open In Colab\"/></a>"
      ]
    },
    {
      "cell_type": "code",
      "metadata": {
        "id": "wK1z21DaIL2N"
      },
      "source": [
        "import numpy as np\n",
        "import math\n",
        "from time import time"
      ],
      "execution_count": 1,
      "outputs": []
    },
    {
      "cell_type": "code",
      "metadata": {
        "id": "MexIFpJoIf_H"
      },
      "source": [
        "N = 10\n",
        "\n"
      ],
      "execution_count": 2,
      "outputs": []
    },
    {
      "cell_type": "code",
      "metadata": {
        "colab": {
          "base_uri": "https://localhost:8080/"
        },
        "id": "iw8ejlU5IWhX",
        "outputId": "9092c336-dd85-4030-a883-7396f74a4f53"
      },
      "source": [
        "start = time()\n",
        "precalcA = np.zeros((N,N))\n",
        "for i in range(0,N):\n",
        "    for j in range(0,N):\n",
        "        ij = abs(i-j)\n",
        "        if (ij <=N/2):\n",
        "                precalcA[i][j] =ij\n",
        "        elif(i>j):\n",
        "            precalcA[i][j] = N-i+j\n",
        "        elif(i<=j):\n",
        "            precalcA[i][j]= N-j+i\n",
        "\n",
        "print(time()-start)\n",
        "print(precalcA)\n"
      ],
      "execution_count": 3,
      "outputs": [
        {
          "output_type": "stream",
          "text": [
            "0.0006043910980224609\n",
            "[[0. 1. 2. 3. 4. 5. 4. 3. 2. 1.]\n",
            " [1. 0. 1. 2. 3. 4. 5. 4. 3. 2.]\n",
            " [2. 1. 0. 1. 2. 3. 4. 5. 4. 3.]\n",
            " [3. 2. 1. 0. 1. 2. 3. 4. 5. 4.]\n",
            " [4. 3. 2. 1. 0. 1. 2. 3. 4. 5.]\n",
            " [5. 4. 3. 2. 1. 0. 1. 2. 3. 4.]\n",
            " [4. 5. 4. 3. 2. 1. 0. 1. 2. 3.]\n",
            " [3. 4. 5. 4. 3. 2. 1. 0. 1. 2.]\n",
            " [2. 3. 4. 5. 4. 3. 2. 1. 0. 1.]\n",
            " [1. 2. 3. 4. 5. 4. 3. 2. 1. 0.]]\n"
          ],
          "name": "stdout"
        }
      ]
    },
    {
      "cell_type": "code",
      "metadata": {
        "colab": {
          "base_uri": "https://localhost:8080/"
        },
        "id": "CkrWlaZ3KCIm",
        "outputId": "146a7d36-1f8a-4a1c-c534-5b5db1958d83"
      },
      "source": [
        "start = time()\n",
        "precalcB = np.zeros((N,N))\n",
        "for i in range(0,N):\n",
        "    j=0\n",
        "    while(j<i):\n",
        "        ij = abs(i-j)\n",
        "        if (ij <=N/2):\n",
        "                precalcB[i][j] =ij\n",
        "        elif(i>j):\n",
        "            precalcB[i][j] = N-i+j\n",
        "        elif(i<=j):\n",
        "            precalcB[i][j]= N-j+i\n",
        "        j=j+1\n",
        "\n",
        "for i in range(0,N):\n",
        "    for j in range(i,N):\n",
        "        precalcB[i][j] =precalcB[j][i]\n",
        "    \n",
        "print(time()-start)\n",
        "print(precalcB)"
      ],
      "execution_count": 4,
      "outputs": [
        {
          "output_type": "stream",
          "text": [
            "0.00031757354736328125\n",
            "[[0. 1. 2. 3. 4. 5. 4. 3. 2. 1.]\n",
            " [1. 0. 1. 2. 3. 4. 5. 4. 3. 2.]\n",
            " [2. 1. 0. 1. 2. 3. 4. 5. 4. 3.]\n",
            " [3. 2. 1. 0. 1. 2. 3. 4. 5. 4.]\n",
            " [4. 3. 2. 1. 0. 1. 2. 3. 4. 5.]\n",
            " [5. 4. 3. 2. 1. 0. 1. 2. 3. 4.]\n",
            " [4. 5. 4. 3. 2. 1. 0. 1. 2. 3.]\n",
            " [3. 4. 5. 4. 3. 2. 1. 0. 1. 2.]\n",
            " [2. 3. 4. 5. 4. 3. 2. 1. 0. 1.]\n",
            " [1. 2. 3. 4. 5. 4. 3. 2. 1. 0.]]\n"
          ],
          "name": "stdout"
        }
      ]
    },
    {
      "cell_type": "code",
      "metadata": {
        "colab": {
          "base_uri": "https://localhost:8080/"
        },
        "id": "tqXXbGrHRYhK",
        "outputId": "19fd6bc1-db86-4bde-b962-cb7dfdd579bc"
      },
      "source": [
        "(precalcA == precalcB).all()"
      ],
      "execution_count": 5,
      "outputs": [
        {
          "output_type": "execute_result",
          "data": {
            "text/plain": [
              "True"
            ]
          },
          "metadata": {
            "tags": []
          },
          "execution_count": 5
        }
      ]
    },
    {
      "cell_type": "markdown",
      "metadata": {
        "id": "ykX6VFoBXJbq"
      },
      "source": [
        "# Flat version"
      ]
    },
    {
      "cell_type": "code",
      "metadata": {
        "colab": {
          "base_uri": "https://localhost:8080/"
        },
        "id": "UBUazvD4S4Vp",
        "outputId": "7025e4df-3e29-4e21-a334-348c8cb745b2"
      },
      "source": [
        "def fLen(k):\n",
        "    return int(k*(k+1)/2)\n",
        "\n",
        "def arrToFlat(i,j):\n",
        "    \"\"\"\n",
        "https://www.geeksforgeeks.org/convert-given-lower-triangular-matrix-to-1d-array/\n",
        "    \"\"\"\n",
        "    if i>=j:\n",
        "        return int(((i+1)*i)/2+j)\n",
        "    else:\n",
        "        return int(((j+1)*j)/2+i)\n",
        "\n",
        "\n",
        "\n",
        "pcF = np.ones(arrToFlat(N,N))\n",
        "#print(pcF)\n",
        "\n",
        "for i in range(0,N):\n",
        "    j=0\n",
        "    while(j<=i):\n",
        "        \n",
        "        ij = abs(i-j)\n",
        "\n",
        "        if (ij <=N/2):\n",
        "            pcF[arrToFlat(i,j)]= ij\n",
        "        elif(ij>N/2):\n",
        "            print(i,j,arrToFlat(i,j),N-i+j)\n",
        "            pcF[arrToFlat(i,j)]= N-i+j\n",
        "        #print(i,j,pcF[i+j])\n",
        "        j=j+1\n",
        "\n",
        "\n",
        "print(pcF)\n",
        "\n",
        "def a_pcF(i,j):\n",
        "    if(i>j):\n",
        "        return pcF[arrToFlat(i,j)]\n",
        "    else:\n",
        "         return pcF[arrToFlat(j,i)]"
      ],
      "execution_count": 6,
      "outputs": [
        {
          "output_type": "stream",
          "text": [
            "6 0 21 4\n",
            "7 0 28 3\n",
            "7 1 29 4\n",
            "8 0 36 2\n",
            "8 1 37 3\n",
            "8 2 38 4\n",
            "9 0 45 1\n",
            "9 1 46 2\n",
            "9 2 47 3\n",
            "9 3 48 4\n",
            "[0. 1. 0. 2. 1. 0. 3. 2. 1. 0. 4. 3. 2. 1. 0. 5. 4. 3. 2. 1. 0. 4. 5. 4.\n",
            " 3. 2. 1. 0. 3. 4. 5. 4. 3. 2. 1. 0. 2. 3. 4. 5. 4. 3. 2. 1. 0. 1. 2. 3.\n",
            " 4. 5. 4. 3. 2. 1. 0. 1. 1. 1. 1. 1. 1. 1. 1. 1. 1.]\n"
          ],
          "name": "stdout"
        }
      ]
    },
    {
      "cell_type": "code",
      "metadata": {
        "id": "8NZh9topXm_d"
      },
      "source": [
        ""
      ],
      "execution_count": 6,
      "outputs": []
    },
    {
      "cell_type": "code",
      "metadata": {
        "colab": {
          "base_uri": "https://localhost:8080/"
        },
        "id": "nFPTIwcxX5uC",
        "outputId": "0ecc4a59-7892-4db9-b4af-16c8a9ffa84a"
      },
      "source": [
        "start = time()\n",
        "precalcC = np.zeros((N,N))\n",
        "for i in range(0,N):\n",
        "    for j in range(0,N):\n",
        "       # print((i,j))\n",
        "        precalcC[i][j] = a_pcF(i,j)\n",
        "\n",
        "print(time()-start)\n",
        "print(precalcC)\n",
        "print(precalcB)\n",
        "print(precalcC - precalcB)"
      ],
      "execution_count": 7,
      "outputs": [
        {
          "output_type": "stream",
          "text": [
            "0.0005629062652587891\n",
            "[[0. 1. 2. 3. 4. 5. 4. 3. 2. 1.]\n",
            " [1. 0. 1. 2. 3. 4. 5. 4. 3. 2.]\n",
            " [2. 1. 0. 1. 2. 3. 4. 5. 4. 3.]\n",
            " [3. 2. 1. 0. 1. 2. 3. 4. 5. 4.]\n",
            " [4. 3. 2. 1. 0. 1. 2. 3. 4. 5.]\n",
            " [5. 4. 3. 2. 1. 0. 1. 2. 3. 4.]\n",
            " [4. 5. 4. 3. 2. 1. 0. 1. 2. 3.]\n",
            " [3. 4. 5. 4. 3. 2. 1. 0. 1. 2.]\n",
            " [2. 3. 4. 5. 4. 3. 2. 1. 0. 1.]\n",
            " [1. 2. 3. 4. 5. 4. 3. 2. 1. 0.]]\n",
            "[[0. 1. 2. 3. 4. 5. 4. 3. 2. 1.]\n",
            " [1. 0. 1. 2. 3. 4. 5. 4. 3. 2.]\n",
            " [2. 1. 0. 1. 2. 3. 4. 5. 4. 3.]\n",
            " [3. 2. 1. 0. 1. 2. 3. 4. 5. 4.]\n",
            " [4. 3. 2. 1. 0. 1. 2. 3. 4. 5.]\n",
            " [5. 4. 3. 2. 1. 0. 1. 2. 3. 4.]\n",
            " [4. 5. 4. 3. 2. 1. 0. 1. 2. 3.]\n",
            " [3. 4. 5. 4. 3. 2. 1. 0. 1. 2.]\n",
            " [2. 3. 4. 5. 4. 3. 2. 1. 0. 1.]\n",
            " [1. 2. 3. 4. 5. 4. 3. 2. 1. 0.]]\n",
            "[[0. 0. 0. 0. 0. 0. 0. 0. 0. 0.]\n",
            " [0. 0. 0. 0. 0. 0. 0. 0. 0. 0.]\n",
            " [0. 0. 0. 0. 0. 0. 0. 0. 0. 0.]\n",
            " [0. 0. 0. 0. 0. 0. 0. 0. 0. 0.]\n",
            " [0. 0. 0. 0. 0. 0. 0. 0. 0. 0.]\n",
            " [0. 0. 0. 0. 0. 0. 0. 0. 0. 0.]\n",
            " [0. 0. 0. 0. 0. 0. 0. 0. 0. 0.]\n",
            " [0. 0. 0. 0. 0. 0. 0. 0. 0. 0.]\n",
            " [0. 0. 0. 0. 0. 0. 0. 0. 0. 0.]\n",
            " [0. 0. 0. 0. 0. 0. 0. 0. 0. 0.]]\n"
          ],
          "name": "stdout"
        }
      ]
    },
    {
      "cell_type": "code",
      "metadata": {
        "id": "9hbBwjyOecuG"
      },
      "source": [
        "\n",
        "\n"
      ],
      "execution_count": 7,
      "outputs": []
    },
    {
      "cell_type": "code",
      "metadata": {
        "colab": {
          "base_uri": "https://localhost:8080/"
        },
        "id": "VXLq80cyYOKE",
        "outputId": "4ece945e-23d1-4959-9ebb-31c82e91bc47"
      },
      "source": [
        "\n",
        "# for  i in range(math.ceil(N/2)):\n",
        "#     print(i)\n",
        "\n",
        "# for i in range(math.ceil(N/2),N):\n",
        "#     print(N-i)\n",
        "\n",
        "precalcS = []\n",
        "for i in range(N):\n",
        "    if(i<N/2):\n",
        "        print(i,i)\n",
        "        precalcS.append(i)\n",
        "    else:\n",
        "        print(i,N-i)\n",
        "        precalcS.append(N-i)"
      ],
      "execution_count": 76,
      "outputs": [
        {
          "output_type": "stream",
          "text": [
            "0 0\n",
            "1 1\n",
            "2 2\n",
            "3 3\n",
            "4 4\n",
            "5 5\n",
            "6 4\n",
            "7 3\n",
            "8 2\n",
            "9 1\n"
          ],
          "name": "stdout"
        }
      ]
    },
    {
      "cell_type": "code",
      "metadata": {
        "id": "n7g27JSDeSDl"
      },
      "source": [
        "def index2Dto1D(i,j):\n",
        "    \n",
        "     return abs(i-j-N*int(2*(i-j)/N))\n",
        "\n",
        "\n",
        "def access_array(i,j):\n",
        "    # print(index2Dto1D(i,j))\n",
        "    # return precalcS[index2Dto1D(i,j)]\n",
        "\n",
        "    \n",
        "        # return index2Dto1D(i,j)\n",
        "        return precalcS[index2Dto1D(i,j)]\n",
        "\n"
      ],
      "execution_count": 81,
      "outputs": []
    },
    {
      "cell_type": "code",
      "metadata": {
        "id": "XW8nlFJYa81O",
        "colab": {
          "base_uri": "https://localhost:8080/"
        },
        "outputId": "c0447916-b735-401c-c3b3-5223085093d0"
      },
      "source": [
        "fullTestS = np.ones((N,N))*-1\n",
        "\n",
        "for i in range(N):\n",
        "    for j in range(N):\n",
        "        print(i,j,\" \", end=\"\")\n",
        "        print(index2Dto1D(i,j))\n",
        "        fullTestS[i][j] = access_array(i,j)\n",
        "\n"
      ],
      "execution_count": 82,
      "outputs": [
        {
          "output_type": "stream",
          "text": [
            "0 0  0\n",
            "0 1  1\n",
            "0 2  2\n",
            "0 3  3\n",
            "0 4  4\n",
            "0 5  5\n",
            "0 6  4\n",
            "0 7  3\n",
            "0 8  2\n",
            "0 9  1\n",
            "1 0  1\n",
            "1 1  0\n",
            "1 2  1\n",
            "1 3  2\n",
            "1 4  3\n",
            "1 5  4\n",
            "1 6  5\n",
            "1 7  4\n",
            "1 8  3\n",
            "1 9  2\n",
            "2 0  2\n",
            "2 1  1\n",
            "2 2  0\n",
            "2 3  1\n",
            "2 4  2\n",
            "2 5  3\n",
            "2 6  4\n",
            "2 7  5\n",
            "2 8  4\n",
            "2 9  3\n",
            "3 0  3\n",
            "3 1  2\n",
            "3 2  1\n",
            "3 3  0\n",
            "3 4  1\n",
            "3 5  2\n",
            "3 6  3\n",
            "3 7  4\n",
            "3 8  5\n",
            "3 9  4\n",
            "4 0  4\n",
            "4 1  3\n",
            "4 2  2\n",
            "4 3  1\n",
            "4 4  0\n",
            "4 5  1\n",
            "4 6  2\n",
            "4 7  3\n",
            "4 8  4\n",
            "4 9  5\n",
            "5 0  5\n",
            "5 1  4\n",
            "5 2  3\n",
            "5 3  2\n",
            "5 4  1\n",
            "5 5  0\n",
            "5 6  1\n",
            "5 7  2\n",
            "5 8  3\n",
            "5 9  4\n",
            "6 0  4\n",
            "6 1  5\n",
            "6 2  4\n",
            "6 3  3\n",
            "6 4  2\n",
            "6 5  1\n",
            "6 6  0\n",
            "6 7  1\n",
            "6 8  2\n",
            "6 9  3\n",
            "7 0  3\n",
            "7 1  4\n",
            "7 2  5\n",
            "7 3  4\n",
            "7 4  3\n",
            "7 5  2\n",
            "7 6  1\n",
            "7 7  0\n",
            "7 8  1\n",
            "7 9  2\n",
            "8 0  2\n",
            "8 1  3\n",
            "8 2  4\n",
            "8 3  5\n",
            "8 4  4\n",
            "8 5  3\n",
            "8 6  2\n",
            "8 7  1\n",
            "8 8  0\n",
            "8 9  1\n",
            "9 0  1\n",
            "9 1  2\n",
            "9 2  3\n",
            "9 3  4\n",
            "9 4  5\n",
            "9 5  4\n",
            "9 6  3\n",
            "9 7  2\n",
            "9 8  1\n",
            "9 9  0\n"
          ],
          "name": "stdout"
        }
      ]
    },
    {
      "cell_type": "code",
      "metadata": {
        "colab": {
          "base_uri": "https://localhost:8080/"
        },
        "id": "Nx-giJNseuYm",
        "outputId": "f6ead9ae-6b1e-44fd-e8a4-9b1c5b51ae71"
      },
      "source": [
        "print(fullTestS)\n",
        "print(precalcA)"
      ],
      "execution_count": 83,
      "outputs": [
        {
          "output_type": "stream",
          "text": [
            "[[0. 1. 2. 3. 4. 5. 4. 3. 2. 1.]\n",
            " [1. 0. 1. 2. 3. 4. 5. 4. 3. 2.]\n",
            " [2. 1. 0. 1. 2. 3. 4. 5. 4. 3.]\n",
            " [3. 2. 1. 0. 1. 2. 3. 4. 5. 4.]\n",
            " [4. 3. 2. 1. 0. 1. 2. 3. 4. 5.]\n",
            " [5. 4. 3. 2. 1. 0. 1. 2. 3. 4.]\n",
            " [4. 5. 4. 3. 2. 1. 0. 1. 2. 3.]\n",
            " [3. 4. 5. 4. 3. 2. 1. 0. 1. 2.]\n",
            " [2. 3. 4. 5. 4. 3. 2. 1. 0. 1.]\n",
            " [1. 2. 3. 4. 5. 4. 3. 2. 1. 0.]]\n",
            "[[0. 1. 2. 3. 4. 5. 4. 3. 2. 1.]\n",
            " [1. 0. 1. 2. 3. 4. 5. 4. 3. 2.]\n",
            " [2. 1. 0. 1. 2. 3. 4. 5. 4. 3.]\n",
            " [3. 2. 1. 0. 1. 2. 3. 4. 5. 4.]\n",
            " [4. 3. 2. 1. 0. 1. 2. 3. 4. 5.]\n",
            " [5. 4. 3. 2. 1. 0. 1. 2. 3. 4.]\n",
            " [4. 5. 4. 3. 2. 1. 0. 1. 2. 3.]\n",
            " [3. 4. 5. 4. 3. 2. 1. 0. 1. 2.]\n",
            " [2. 3. 4. 5. 4. 3. 2. 1. 0. 1.]\n",
            " [1. 2. 3. 4. 5. 4. 3. 2. 1. 0.]]\n"
          ],
          "name": "stdout"
        }
      ]
    },
    {
      "cell_type": "code",
      "metadata": {
        "colab": {
          "base_uri": "https://localhost:8080/"
        },
        "id": "ZgVViDLUfeDi",
        "outputId": "609675db-5788-47e0-8cde-1419841b189e"
      },
      "source": [
        "\n",
        "print((precalcA==fullTestS).all())\n",
        "print((fullTestS==precalcB).all())\n",
        "print((fullTestS==precalcC).all())"
      ],
      "execution_count": 84,
      "outputs": [
        {
          "output_type": "stream",
          "text": [
            "True\n",
            "True\n",
            "True\n"
          ],
          "name": "stdout"
        }
      ]
    },
    {
      "cell_type": "code",
      "metadata": {
        "id": "_Y5kLABMfrF8"
      },
      "source": [
        "out = np.array([[0.000000,0.000000,0.000000,0.000000,0.000000,5.000000,4.000000,3.000000,2.000000,1.000000],\n",
        "[1.000000,0.000000,0.000000,0.000000,0.000000,0.000000,5.000000,4.000000,3.000000,2.000000],\n",
        "[2.000000,1.000000,0.000000,0.000000,0.000000,0.000000,0.000000,5.000000,4.000000,3.000000],\n",
        "[3.000000,2.000000,1.000000,0.000000,0.000000,0.000000,0.000000,0.000000,5.000000,4.000000],\n",
        "[4.000000,3.000000,2.000000,1.000000,0.000000,0.000000,0.000000,0.000000,0.000000,5.000000],\n",
        "[0.000000,4.000000,3.000000,2.000000,1.000000,0.000000,0.000000,0.000000,0.000000,0.000000],\n",
        "[0.000000,0.000000,4.000000,3.000000,2.000000,1.000000,0.000000,0.000000,0.000000,0.000000],\n",
        "[0.000000,0.000000,0.000000,4.000000,3.000000,2.000000,1.000000,0.000000,0.000000,0.000000],\n",
        "[0.000000,0.000000,0.000000,0.000000,4.000000,3.000000,2.000000,1.000000,0.000000,0.000000],\n",
        "[0.000000,0.000000,0.000000,0.000000,0.000000,4.000000,3.000000,2.000000,1.000000,0.000000]])"
      ],
      "execution_count": 24,
      "outputs": []
    },
    {
      "cell_type": "code",
      "metadata": {
        "id": "cgTJlYyONxRD",
        "outputId": "e8bdd5d1-d1b3-4e90-cd3c-7d97839984f9",
        "colab": {
          "base_uri": "https://localhost:8080/"
        }
      },
      "source": [
        "print(precalcA)\n",
        "print(out)"
      ],
      "execution_count": 25,
      "outputs": [
        {
          "output_type": "stream",
          "text": [
            "[[0. 1. 2. 3. 4. 5. 4. 3. 2. 1.]\n",
            " [1. 0. 1. 2. 3. 4. 5. 4. 3. 2.]\n",
            " [2. 1. 0. 1. 2. 3. 4. 5. 4. 3.]\n",
            " [3. 2. 1. 0. 1. 2. 3. 4. 5. 4.]\n",
            " [4. 3. 2. 1. 0. 1. 2. 3. 4. 5.]\n",
            " [5. 4. 3. 2. 1. 0. 1. 2. 3. 4.]\n",
            " [4. 5. 4. 3. 2. 1. 0. 1. 2. 3.]\n",
            " [3. 4. 5. 4. 3. 2. 1. 0. 1. 2.]\n",
            " [2. 3. 4. 5. 4. 3. 2. 1. 0. 1.]\n",
            " [1. 2. 3. 4. 5. 4. 3. 2. 1. 0.]]\n",
            "[[0. 0. 0. 0. 0. 5. 4. 3. 2. 1.]\n",
            " [1. 0. 0. 0. 0. 0. 5. 4. 3. 2.]\n",
            " [2. 1. 0. 0. 0. 0. 0. 5. 4. 3.]\n",
            " [3. 2. 1. 0. 0. 0. 0. 0. 5. 4.]\n",
            " [4. 3. 2. 1. 0. 0. 0. 0. 0. 5.]\n",
            " [0. 4. 3. 2. 1. 0. 0. 0. 0. 0.]\n",
            " [0. 0. 4. 3. 2. 1. 0. 0. 0. 0.]\n",
            " [0. 0. 0. 4. 3. 2. 1. 0. 0. 0.]\n",
            " [0. 0. 0. 0. 4. 3. 2. 1. 0. 0.]\n",
            " [0. 0. 0. 0. 0. 4. 3. 2. 1. 0.]]\n"
          ],
          "name": "stdout"
        }
      ]
    },
    {
      "cell_type": "code",
      "metadata": {
        "id": "GGraka0zQfw4"
      },
      "source": [
        ""
      ],
      "execution_count": null,
      "outputs": []
    },
    {
      "cell_type": "code",
      "metadata": {
        "id": "kuvH1v2WOEa5",
        "outputId": "c1ebb409-6a24-4203-cb55-69c5872b4f7c",
        "colab": {
          "base_uri": "https://localhost:8080/"
        }
      },
      "source": [
        "print(np.array(precalcS))\n",
        "\n",
        "out2 =np.array([ 0.000000,1.000000,2.000000,3.000000,4.000000,5.000000,4.000000,3.000000,2.000000,1.000000],dtype=int)\n",
        "print(out2)"
      ],
      "execution_count": 19,
      "outputs": [
        {
          "output_type": "stream",
          "text": [
            "[0 1 2 3 4 5 4 3 2 1]\n",
            "[0 1 2 3 4 5 4 3 2 1]\n"
          ],
          "name": "stdout"
        }
      ]
    },
    {
      "cell_type": "code",
      "metadata": {
        "id": "FxNC8t79QQpb"
      },
      "source": [
        ""
      ],
      "execution_count": null,
      "outputs": []
    }
  ]
}