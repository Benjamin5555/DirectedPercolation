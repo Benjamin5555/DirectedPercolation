{
  "nbformat": 4,
  "nbformat_minor": 0,
  "metadata": {
    "colab": {
      "name": "Efficient periodic boundary conditions",
      "provenance": [],
      "collapsed_sections": [],
      "authorship_tag": "ABX9TyPr/mQiBf9GJNS1RvROU8IH",
      "include_colab_link": true
    },
    "kernelspec": {
      "name": "python3",
      "display_name": "Python 3"
    }
  },
  "cells": [
    {
      "cell_type": "markdown",
      "metadata": {
        "id": "view-in-github",
        "colab_type": "text"
      },
      "source": [
        "<a href=\"https://colab.research.google.com/github/Benjamin5555/DirectedPercolation/blob/master/Efficient_periodic_boundary_conditions.ipynb\" target=\"_parent\"><img src=\"https://colab.research.google.com/assets/colab-badge.svg\" alt=\"Open In Colab\"/></a>"
      ]
    },
    {
      "cell_type": "code",
      "metadata": {
        "id": "wK1z21DaIL2N"
      },
      "source": [
        "import numpy as np\n",
        "import math\n",
        "from time import time"
      ],
      "execution_count": 1,
      "outputs": []
    },
    {
      "cell_type": "code",
      "metadata": {
        "id": "MexIFpJoIf_H"
      },
      "source": [
        "N = 12\n",
        "\n"
      ],
      "execution_count": 2,
      "outputs": []
    },
    {
      "cell_type": "code",
      "metadata": {
        "colab": {
          "base_uri": "https://localhost:8080/"
        },
        "id": "iw8ejlU5IWhX",
        "outputId": "191b0258-2ba9-45ad-acf4-74621a2d2aed"
      },
      "source": [
        "start = time()\n",
        "precalcA = np.zeros((N,N))\n",
        "for i in range(0,N):\n",
        "    for j in range(0,N):\n",
        "        ij = abs(i-j)\n",
        "        if (ij <=N/2):\n",
        "                precalcA[i][j] =ij\n",
        "        elif(i>j):\n",
        "            precalcA[i][j] = N-i+j\n",
        "        elif(i<=j):\n",
        "            precalcA[i][j]= N-j+i\n",
        "\n",
        "print(time()-start)\n",
        "print(precalcA)\n"
      ],
      "execution_count": 3,
      "outputs": [
        {
          "output_type": "stream",
          "text": [
            "0.0006825923919677734\n",
            "[[0. 1. 2. 3. 4. 5. 6. 5. 4. 3. 2. 1.]\n",
            " [1. 0. 1. 2. 3. 4. 5. 6. 5. 4. 3. 2.]\n",
            " [2. 1. 0. 1. 2. 3. 4. 5. 6. 5. 4. 3.]\n",
            " [3. 2. 1. 0. 1. 2. 3. 4. 5. 6. 5. 4.]\n",
            " [4. 3. 2. 1. 0. 1. 2. 3. 4. 5. 6. 5.]\n",
            " [5. 4. 3. 2. 1. 0. 1. 2. 3. 4. 5. 6.]\n",
            " [6. 5. 4. 3. 2. 1. 0. 1. 2. 3. 4. 5.]\n",
            " [5. 6. 5. 4. 3. 2. 1. 0. 1. 2. 3. 4.]\n",
            " [4. 5. 6. 5. 4. 3. 2. 1. 0. 1. 2. 3.]\n",
            " [3. 4. 5. 6. 5. 4. 3. 2. 1. 0. 1. 2.]\n",
            " [2. 3. 4. 5. 6. 5. 4. 3. 2. 1. 0. 1.]\n",
            " [1. 2. 3. 4. 5. 6. 5. 4. 3. 2. 1. 0.]]\n"
          ],
          "name": "stdout"
        }
      ]
    },
    {
      "cell_type": "code",
      "metadata": {
        "colab": {
          "base_uri": "https://localhost:8080/"
        },
        "id": "CkrWlaZ3KCIm",
        "outputId": "29da0c63-0eaa-4573-f461-be55dccecbf0"
      },
      "source": [
        "start = time()\n",
        "precalcB = np.zeros((N,N))\n",
        "for i in range(0,N):\n",
        "    j=0\n",
        "    while(j<i):\n",
        "        ij = abs(i-j)\n",
        "        if (ij <=N/2):\n",
        "                precalcB[i][j] =ij\n",
        "        elif(i>j):\n",
        "            precalcB[i][j] = N-i+j\n",
        "        elif(i<=j):\n",
        "            precalcB[i][j]= N-j+i\n",
        "        j=j+1\n",
        "\n",
        "for i in range(0,N):\n",
        "    for j in range(i,N):\n",
        "        precalcB[i][j] =precalcB[j][i]\n",
        "    \n",
        "print(time()-start)\n",
        "print(precalcB)"
      ],
      "execution_count": 4,
      "outputs": [
        {
          "output_type": "stream",
          "text": [
            "0.00035572052001953125\n",
            "[[0. 1. 2. 3. 4. 5. 6. 5. 4. 3. 2. 1.]\n",
            " [1. 0. 1. 2. 3. 4. 5. 6. 5. 4. 3. 2.]\n",
            " [2. 1. 0. 1. 2. 3. 4. 5. 6. 5. 4. 3.]\n",
            " [3. 2. 1. 0. 1. 2. 3. 4. 5. 6. 5. 4.]\n",
            " [4. 3. 2. 1. 0. 1. 2. 3. 4. 5. 6. 5.]\n",
            " [5. 4. 3. 2. 1. 0. 1. 2. 3. 4. 5. 6.]\n",
            " [6. 5. 4. 3. 2. 1. 0. 1. 2. 3. 4. 5.]\n",
            " [5. 6. 5. 4. 3. 2. 1. 0. 1. 2. 3. 4.]\n",
            " [4. 5. 6. 5. 4. 3. 2. 1. 0. 1. 2. 3.]\n",
            " [3. 4. 5. 6. 5. 4. 3. 2. 1. 0. 1. 2.]\n",
            " [2. 3. 4. 5. 6. 5. 4. 3. 2. 1. 0. 1.]\n",
            " [1. 2. 3. 4. 5. 6. 5. 4. 3. 2. 1. 0.]]\n"
          ],
          "name": "stdout"
        }
      ]
    },
    {
      "cell_type": "code",
      "metadata": {
        "colab": {
          "base_uri": "https://localhost:8080/"
        },
        "id": "tqXXbGrHRYhK",
        "outputId": "476879f0-a116-49be-d46a-544a51cbe7e9"
      },
      "source": [
        "(precalcA == precalcB).all()"
      ],
      "execution_count": 5,
      "outputs": [
        {
          "output_type": "execute_result",
          "data": {
            "text/plain": [
              "True"
            ]
          },
          "metadata": {
            "tags": []
          },
          "execution_count": 5
        }
      ]
    },
    {
      "cell_type": "markdown",
      "metadata": {
        "id": "ykX6VFoBXJbq"
      },
      "source": [
        "# Flat version"
      ]
    },
    {
      "cell_type": "code",
      "metadata": {
        "colab": {
          "base_uri": "https://localhost:8080/"
        },
        "id": "UBUazvD4S4Vp",
        "outputId": "99a9e7b5-28e8-4437-88a5-6d2e5ddcbcfa"
      },
      "source": [
        "def fLen(k):\n",
        "    return int(k*(k+1)/2)\n",
        "\n",
        "def arrToFlat(i,j):\n",
        "    \"\"\"\n",
        "https://www.geeksforgeeks.org/convert-given-lower-triangular-matrix-to-1d-array/\n",
        "    \"\"\"\n",
        "    if i>=j:\n",
        "        return int(((i+1)*i)/2+j)\n",
        "    else:\n",
        "        return int(((j+1)*j)/2+i)\n",
        "\n",
        "\n",
        "\n",
        "pcF = np.ones(arrToFlat(N,N))\n",
        "#print(pcF)\n",
        "\n",
        "for i in range(0,N):\n",
        "    j=0\n",
        "    while(j<=i):\n",
        "        \n",
        "        ij = abs(i-j)\n",
        "\n",
        "        if (ij <=N/2):\n",
        "            pcF[arrToFlat(i,j)]= ij\n",
        "        elif(ij>N/2):\n",
        "            print(i,j,arrToFlat(i,j),N-i+j)\n",
        "            pcF[arrToFlat(i,j)]= N-i+j\n",
        "        #print(i,j,pcF[i+j])\n",
        "        j=j+1\n",
        "\n",
        "\n",
        "print(pcF)\n",
        "\n",
        "def a_pcF(i,j):\n",
        "    if(i>j):\n",
        "        return pcF[arrToFlat(i,j)]\n",
        "    else:\n",
        "         return pcF[arrToFlat(j,i)]"
      ],
      "execution_count": 6,
      "outputs": [
        {
          "output_type": "stream",
          "text": [
            "7 0 28 5\n",
            "8 0 36 4\n",
            "8 1 37 5\n",
            "9 0 45 3\n",
            "9 1 46 4\n",
            "9 2 47 5\n",
            "10 0 55 2\n",
            "10 1 56 3\n",
            "10 2 57 4\n",
            "10 3 58 5\n",
            "11 0 66 1\n",
            "11 1 67 2\n",
            "11 2 68 3\n",
            "11 3 69 4\n",
            "11 4 70 5\n",
            "[0. 1. 0. 2. 1. 0. 3. 2. 1. 0. 4. 3. 2. 1. 0. 5. 4. 3. 2. 1. 0. 6. 5. 4.\n",
            " 3. 2. 1. 0. 5. 6. 5. 4. 3. 2. 1. 0. 4. 5. 6. 5. 4. 3. 2. 1. 0. 3. 4. 5.\n",
            " 6. 5. 4. 3. 2. 1. 0. 2. 3. 4. 5. 6. 5. 4. 3. 2. 1. 0. 1. 2. 3. 4. 5. 6.\n",
            " 5. 4. 3. 2. 1. 0. 1. 1. 1. 1. 1. 1. 1. 1. 1. 1. 1. 1.]\n"
          ],
          "name": "stdout"
        }
      ]
    },
    {
      "cell_type": "code",
      "metadata": {
        "id": "8NZh9topXm_d"
      },
      "source": [
        ""
      ],
      "execution_count": 6,
      "outputs": []
    },
    {
      "cell_type": "code",
      "metadata": {
        "colab": {
          "base_uri": "https://localhost:8080/"
        },
        "id": "nFPTIwcxX5uC",
        "outputId": "c27cd359-8197-452b-9287-e3c13635fb0f"
      },
      "source": [
        "start = time()\n",
        "precalcC = np.zeros((N,N))\n",
        "for i in range(0,N):\n",
        "    for j in range(0,N):\n",
        "       # print((i,j))\n",
        "        precalcC[i][j] = a_pcF(i,j)\n",
        "\n",
        "print(time()-start)\n",
        "print(precalcC)\n",
        "print(precalcB)\n",
        "print(precalcC - precalcB)"
      ],
      "execution_count": 7,
      "outputs": [
        {
          "output_type": "stream",
          "text": [
            "0.0005280971527099609\n",
            "[[0. 1. 2. 3. 4. 5. 6. 5. 4. 3. 2. 1.]\n",
            " [1. 0. 1. 2. 3. 4. 5. 6. 5. 4. 3. 2.]\n",
            " [2. 1. 0. 1. 2. 3. 4. 5. 6. 5. 4. 3.]\n",
            " [3. 2. 1. 0. 1. 2. 3. 4. 5. 6. 5. 4.]\n",
            " [4. 3. 2. 1. 0. 1. 2. 3. 4. 5. 6. 5.]\n",
            " [5. 4. 3. 2. 1. 0. 1. 2. 3. 4. 5. 6.]\n",
            " [6. 5. 4. 3. 2. 1. 0. 1. 2. 3. 4. 5.]\n",
            " [5. 6. 5. 4. 3. 2. 1. 0. 1. 2. 3. 4.]\n",
            " [4. 5. 6. 5. 4. 3. 2. 1. 0. 1. 2. 3.]\n",
            " [3. 4. 5. 6. 5. 4. 3. 2. 1. 0. 1. 2.]\n",
            " [2. 3. 4. 5. 6. 5. 4. 3. 2. 1. 0. 1.]\n",
            " [1. 2. 3. 4. 5. 6. 5. 4. 3. 2. 1. 0.]]\n",
            "[[0. 1. 2. 3. 4. 5. 6. 5. 4. 3. 2. 1.]\n",
            " [1. 0. 1. 2. 3. 4. 5. 6. 5. 4. 3. 2.]\n",
            " [2. 1. 0. 1. 2. 3. 4. 5. 6. 5. 4. 3.]\n",
            " [3. 2. 1. 0. 1. 2. 3. 4. 5. 6. 5. 4.]\n",
            " [4. 3. 2. 1. 0. 1. 2. 3. 4. 5. 6. 5.]\n",
            " [5. 4. 3. 2. 1. 0. 1. 2. 3. 4. 5. 6.]\n",
            " [6. 5. 4. 3. 2. 1. 0. 1. 2. 3. 4. 5.]\n",
            " [5. 6. 5. 4. 3. 2. 1. 0. 1. 2. 3. 4.]\n",
            " [4. 5. 6. 5. 4. 3. 2. 1. 0. 1. 2. 3.]\n",
            " [3. 4. 5. 6. 5. 4. 3. 2. 1. 0. 1. 2.]\n",
            " [2. 3. 4. 5. 6. 5. 4. 3. 2. 1. 0. 1.]\n",
            " [1. 2. 3. 4. 5. 6. 5. 4. 3. 2. 1. 0.]]\n",
            "[[0. 0. 0. 0. 0. 0. 0. 0. 0. 0. 0. 0.]\n",
            " [0. 0. 0. 0. 0. 0. 0. 0. 0. 0. 0. 0.]\n",
            " [0. 0. 0. 0. 0. 0. 0. 0. 0. 0. 0. 0.]\n",
            " [0. 0. 0. 0. 0. 0. 0. 0. 0. 0. 0. 0.]\n",
            " [0. 0. 0. 0. 0. 0. 0. 0. 0. 0. 0. 0.]\n",
            " [0. 0. 0. 0. 0. 0. 0. 0. 0. 0. 0. 0.]\n",
            " [0. 0. 0. 0. 0. 0. 0. 0. 0. 0. 0. 0.]\n",
            " [0. 0. 0. 0. 0. 0. 0. 0. 0. 0. 0. 0.]\n",
            " [0. 0. 0. 0. 0. 0. 0. 0. 0. 0. 0. 0.]\n",
            " [0. 0. 0. 0. 0. 0. 0. 0. 0. 0. 0. 0.]\n",
            " [0. 0. 0. 0. 0. 0. 0. 0. 0. 0. 0. 0.]\n",
            " [0. 0. 0. 0. 0. 0. 0. 0. 0. 0. 0. 0.]]\n"
          ],
          "name": "stdout"
        }
      ]
    },
    {
      "cell_type": "code",
      "metadata": {
        "id": "9hbBwjyOecuG"
      },
      "source": [
        "\n",
        "\n"
      ],
      "execution_count": 7,
      "outputs": []
    },
    {
      "cell_type": "code",
      "metadata": {
        "colab": {
          "base_uri": "https://localhost:8080/"
        },
        "id": "VXLq80cyYOKE",
        "outputId": "33dc05f2-82e9-4d22-a443-48e81d61c2d8"
      },
      "source": [
        "\n",
        "# for  i in range(math.ceil(N/2)):\n",
        "#     print(i)\n",
        "\n",
        "# for i in range(math.ceil(N/2),N):\n",
        "#     print(N-i)\n",
        "\n",
        "precalcS = []\n",
        "for i in range(N):\n",
        "    if(i<N/2):\n",
        "        print(i,i)\n",
        "        precalcS.append(i)\n",
        "    else:\n",
        "        print(i,N-i)\n",
        "        precalcS.append(N-i)"
      ],
      "execution_count": 8,
      "outputs": [
        {
          "output_type": "stream",
          "text": [
            "0 0\n",
            "1 1\n",
            "2 2\n",
            "3 3\n",
            "4 4\n",
            "5 5\n",
            "6 6\n",
            "7 5\n",
            "8 4\n",
            "9 3\n",
            "10 2\n",
            "11 1\n"
          ],
          "name": "stdout"
        }
      ]
    },
    {
      "cell_type": "code",
      "metadata": {
        "id": "n7g27JSDeSDl"
      },
      "source": [
        "def access_array(i,j):\n",
        "    return precalcS[i-j-N*int(2*(i-j)/N)]\n"
      ],
      "execution_count": 9,
      "outputs": []
    },
    {
      "cell_type": "code",
      "metadata": {
        "id": "XW8nlFJYa81O"
      },
      "source": [
        "fullTestS = np.ones((N,N))*-1\n",
        "\n",
        "for i in range(N):\n",
        "    for j in range(N):\n",
        "        \n",
        "        fullTestS[i][j] = access_array(i,j)"
      ],
      "execution_count": 10,
      "outputs": []
    },
    {
      "cell_type": "code",
      "metadata": {
        "id": "Nx-giJNseuYm",
        "outputId": "b2f5946f-34e5-41d0-cd3a-0ab2536e287c",
        "colab": {
          "base_uri": "https://localhost:8080/"
        }
      },
      "source": [
        "print(fullTestS)\n",
        "print(precalcA)"
      ],
      "execution_count": 11,
      "outputs": [
        {
          "output_type": "stream",
          "text": [
            "[[0. 1. 2. 3. 4. 5. 6. 5. 4. 3. 2. 1.]\n",
            " [1. 0. 1. 2. 3. 4. 5. 6. 5. 4. 3. 2.]\n",
            " [2. 1. 0. 1. 2. 3. 4. 5. 6. 5. 4. 3.]\n",
            " [3. 2. 1. 0. 1. 2. 3. 4. 5. 6. 5. 4.]\n",
            " [4. 3. 2. 1. 0. 1. 2. 3. 4. 5. 6. 5.]\n",
            " [5. 4. 3. 2. 1. 0. 1. 2. 3. 4. 5. 6.]\n",
            " [6. 5. 4. 3. 2. 1. 0. 1. 2. 3. 4. 5.]\n",
            " [5. 6. 5. 4. 3. 2. 1. 0. 1. 2. 3. 4.]\n",
            " [4. 5. 6. 5. 4. 3. 2. 1. 0. 1. 2. 3.]\n",
            " [3. 4. 5. 6. 5. 4. 3. 2. 1. 0. 1. 2.]\n",
            " [2. 3. 4. 5. 6. 5. 4. 3. 2. 1. 0. 1.]\n",
            " [1. 2. 3. 4. 5. 6. 5. 4. 3. 2. 1. 0.]]\n",
            "[[0. 1. 2. 3. 4. 5. 6. 5. 4. 3. 2. 1.]\n",
            " [1. 0. 1. 2. 3. 4. 5. 6. 5. 4. 3. 2.]\n",
            " [2. 1. 0. 1. 2. 3. 4. 5. 6. 5. 4. 3.]\n",
            " [3. 2. 1. 0. 1. 2. 3. 4. 5. 6. 5. 4.]\n",
            " [4. 3. 2. 1. 0. 1. 2. 3. 4. 5. 6. 5.]\n",
            " [5. 4. 3. 2. 1. 0. 1. 2. 3. 4. 5. 6.]\n",
            " [6. 5. 4. 3. 2. 1. 0. 1. 2. 3. 4. 5.]\n",
            " [5. 6. 5. 4. 3. 2. 1. 0. 1. 2. 3. 4.]\n",
            " [4. 5. 6. 5. 4. 3. 2. 1. 0. 1. 2. 3.]\n",
            " [3. 4. 5. 6. 5. 4. 3. 2. 1. 0. 1. 2.]\n",
            " [2. 3. 4. 5. 6. 5. 4. 3. 2. 1. 0. 1.]\n",
            " [1. 2. 3. 4. 5. 6. 5. 4. 3. 2. 1. 0.]]\n"
          ],
          "name": "stdout"
        }
      ]
    },
    {
      "cell_type": "code",
      "metadata": {
        "id": "ZgVViDLUfeDi",
        "outputId": "b7520601-368b-4875-84f0-b9ec01b8346d",
        "colab": {
          "base_uri": "https://localhost:8080/"
        }
      },
      "source": [
        "\n",
        "print((precalcA==fullTestS).all())\n",
        "print((fullTestS==precalcB).all())\n",
        "print((fullTestS==precalcC).all())"
      ],
      "execution_count": 13,
      "outputs": [
        {
          "output_type": "stream",
          "text": [
            "True\n",
            "True\n",
            "True\n"
          ],
          "name": "stdout"
        }
      ]
    },
    {
      "cell_type": "code",
      "metadata": {
        "id": "_Y5kLABMfrF8"
      },
      "source": [
        ""
      ],
      "execution_count": 12,
      "outputs": []
    }
  ]
}