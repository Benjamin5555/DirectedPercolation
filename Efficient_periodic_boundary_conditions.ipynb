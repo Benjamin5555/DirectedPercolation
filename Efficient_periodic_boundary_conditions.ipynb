{
  "nbformat": 4,
  "nbformat_minor": 0,
  "metadata": {
    "colab": {
      "name": "Efficient periodic boundary conditions",
      "provenance": [],
      "collapsed_sections": [],
      "authorship_tag": "ABX9TyMZqWiJ5XX07ZglIub6Vi29",
      "include_colab_link": true
    },
    "kernelspec": {
      "name": "python3",
      "display_name": "Python 3"
    }
  },
  "cells": [
    {
      "cell_type": "markdown",
      "metadata": {
        "id": "view-in-github",
        "colab_type": "text"
      },
      "source": [
        "<a href=\"https://colab.research.google.com/github/Benjamin5555/DirectedPercolation/blob/master/Efficient_periodic_boundary_conditions.ipynb\" target=\"_parent\"><img src=\"https://colab.research.google.com/assets/colab-badge.svg\" alt=\"Open In Colab\"/></a>"
      ]
    },
    {
      "cell_type": "code",
      "metadata": {
        "id": "wK1z21DaIL2N"
      },
      "source": [
        "import numpy as np\n",
        "from time import time"
      ],
      "execution_count": null,
      "outputs": []
    },
    {
      "cell_type": "code",
      "metadata": {
        "id": "MexIFpJoIf_H"
      },
      "source": [
        "N = 10\n",
        "\n"
      ],
      "execution_count": null,
      "outputs": []
    },
    {
      "cell_type": "code",
      "metadata": {
        "colab": {
          "base_uri": "https://localhost:8080/"
        },
        "id": "iw8ejlU5IWhX",
        "outputId": "78e98954-00b8-4683-9a19-a89e9a9a99c6"
      },
      "source": [
        "start = time()\n",
        "precalcA = np.zeros((N,N))\n",
        "for i in range(0,N):\n",
        "    for j in range(0,N):\n",
        "        ij = abs(i-j)\n",
        "        if (ij <=N/2):\n",
        "                precalcA[i][j] =ij\n",
        "        elif(i>j):\n",
        "            precalcA[i][j] = N-i+j\n",
        "        elif(i<=j):\n",
        "            precalcA[i][j]= N-j+i\n",
        "\n",
        "print(time()-start)\n",
        "print(precalcA)\n"
      ],
      "execution_count": null,
      "outputs": [
        {
          "output_type": "stream",
          "text": [
            "0.0008988380432128906\n",
            "[[0. 1. 2. 3. 4. 5. 4. 3. 2. 1.]\n",
            " [1. 0. 1. 2. 3. 4. 5. 4. 3. 2.]\n",
            " [2. 1. 0. 1. 2. 3. 4. 5. 4. 3.]\n",
            " [3. 2. 1. 0. 1. 2. 3. 4. 5. 4.]\n",
            " [4. 3. 2. 1. 0. 1. 2. 3. 4. 5.]\n",
            " [5. 4. 3. 2. 1. 0. 1. 2. 3. 4.]\n",
            " [4. 5. 4. 3. 2. 1. 0. 1. 2. 3.]\n",
            " [3. 4. 5. 4. 3. 2. 1. 0. 1. 2.]\n",
            " [2. 3. 4. 5. 4. 3. 2. 1. 0. 1.]\n",
            " [1. 2. 3. 4. 5. 4. 3. 2. 1. 0.]]\n"
          ],
          "name": "stdout"
        }
      ]
    },
    {
      "cell_type": "code",
      "metadata": {
        "colab": {
          "base_uri": "https://localhost:8080/"
        },
        "id": "CkrWlaZ3KCIm",
        "outputId": "7fd10c72-4c7d-4e4c-c650-895722289904"
      },
      "source": [
        "start = time()\n",
        "precalcB = np.zeros((N,N))\n",
        "for i in range(0,N):\n",
        "    j=0\n",
        "    while(j<i):\n",
        "        ij = abs(i-j)\n",
        "        if (ij <=N/2):\n",
        "                precalcB[i][j] =ij\n",
        "        elif(i>j):\n",
        "            precalcB[i][j] = N-i+j\n",
        "        elif(i<=j):\n",
        "            precalcB[i][j]= N-j+i\n",
        "        j=j+1\n",
        "\n",
        "for i in range(0,N):\n",
        "    for j in range(i,N):\n",
        "        precalcB[i][j] =precalcB[j][i]\n",
        "    \n",
        "print(time()-start)\n",
        "print(precalcB)"
      ],
      "execution_count": null,
      "outputs": [
        {
          "output_type": "stream",
          "text": [
            "0.00027489662170410156\n",
            "[[0. 1. 2. 3. 4. 5. 4. 3. 2. 1.]\n",
            " [1. 0. 1. 2. 3. 4. 5. 4. 3. 2.]\n",
            " [2. 1. 0. 1. 2. 3. 4. 5. 4. 3.]\n",
            " [3. 2. 1. 0. 1. 2. 3. 4. 5. 4.]\n",
            " [4. 3. 2. 1. 0. 1. 2. 3. 4. 5.]\n",
            " [5. 4. 3. 2. 1. 0. 1. 2. 3. 4.]\n",
            " [4. 5. 4. 3. 2. 1. 0. 1. 2. 3.]\n",
            " [3. 4. 5. 4. 3. 2. 1. 0. 1. 2.]\n",
            " [2. 3. 4. 5. 4. 3. 2. 1. 0. 1.]\n",
            " [1. 2. 3. 4. 5. 4. 3. 2. 1. 0.]]\n"
          ],
          "name": "stdout"
        }
      ]
    },
    {
      "cell_type": "code",
      "metadata": {
        "colab": {
          "base_uri": "https://localhost:8080/"
        },
        "id": "tqXXbGrHRYhK",
        "outputId": "db7e2d78-1dc4-4da4-ce1e-666dd09484ae"
      },
      "source": [
        "(precalcA == precalcB).all()"
      ],
      "execution_count": null,
      "outputs": [
        {
          "output_type": "execute_result",
          "data": {
            "text/plain": [
              "True"
            ]
          },
          "metadata": {
            "tags": []
          },
          "execution_count": 7
        }
      ]
    },
    {
      "cell_type": "markdown",
      "metadata": {
        "id": "ykX6VFoBXJbq"
      },
      "source": [
        "# Flat version"
      ]
    },
    {
      "cell_type": "code",
      "metadata": {
        "colab": {
          "base_uri": "https://localhost:8080/",
          "height": 232
        },
        "id": "UBUazvD4S4Vp",
        "outputId": "9a3a2184-ffc6-4fe9-860e-c879c80ac1d9"
      },
      "source": [
        "def fLen(k):\n",
        "    return int(k*(k+1)/2)\n",
        "\n",
        "def arrToFlat(i,j):\n",
        "    \"\"\"\n",
        "https://www.geeksforgeeks.org/convert-given-lower-triangular-matrix-to-1d-array/\n",
        "    \"\"\"\n",
        "    if i>=j:\n",
        "        return int(((i+1)*i)/2+j)\n",
        "    else:\n",
        "        return int(((j+1)*j)/2+i)\n",
        "\n",
        "\n",
        "\n",
        "pcF = np.ones(arrToFlat(N,N))\n",
        "#print(pcF)\n",
        "\n",
        "for i in range(0,N):\n",
        "    j=0\n",
        "    while(j<=i):\n",
        "        \n",
        "        ij = abs(i-j)\n",
        "\n",
        "        if (ij <=N/2):\n",
        "            pcF[arrToFlat(i,j)]= ij\n",
        "        elif(ij>N/2):\n",
        "            print(i,j,arrToFlat(i,j),N-i+j)\n",
        "            pcF[arrToFlat(i,j)]= N-i+j\n",
        "        #print(i,j,pcF[i+j])\n",
        "        j=j+1\n",
        "\n",
        "\n",
        "print(pcF)\n",
        "\n",
        "def a_pcF(i,j):\n",
        "    if(i>j):\n",
        "        return pcF[arrToFlat(i,j)]\n",
        "    else:\n",
        "         return pcF[arrToFlat(j,i)]"
      ],
      "execution_count": 1,
      "outputs": [
        {
          "output_type": "error",
          "ename": "NameError",
          "evalue": "ignored",
          "traceback": [
            "\u001b[0;31m---------------------------------------------------------------------------\u001b[0m",
            "\u001b[0;31mNameError\u001b[0m                                 Traceback (most recent call last)",
            "\u001b[0;32m<ipython-input-1-11fbacb81bd1>\u001b[0m in \u001b[0;36m<module>\u001b[0;34m()\u001b[0m\n\u001b[1;32m     13\u001b[0m \u001b[0;34m\u001b[0m\u001b[0m\n\u001b[1;32m     14\u001b[0m \u001b[0;34m\u001b[0m\u001b[0m\n\u001b[0;32m---> 15\u001b[0;31m \u001b[0mpcF\u001b[0m \u001b[0;34m=\u001b[0m \u001b[0mnp\u001b[0m\u001b[0;34m.\u001b[0m\u001b[0mones\u001b[0m\u001b[0;34m(\u001b[0m\u001b[0marrToFlat\u001b[0m\u001b[0;34m(\u001b[0m\u001b[0mN\u001b[0m\u001b[0;34m,\u001b[0m\u001b[0mN\u001b[0m\u001b[0;34m)\u001b[0m\u001b[0;34m)\u001b[0m\u001b[0;34m\u001b[0m\u001b[0;34m\u001b[0m\u001b[0m\n\u001b[0m\u001b[1;32m     16\u001b[0m \u001b[0;31m#print(pcF)\u001b[0m\u001b[0;34m\u001b[0m\u001b[0;34m\u001b[0m\u001b[0;34m\u001b[0m\u001b[0m\n\u001b[1;32m     17\u001b[0m \u001b[0;34m\u001b[0m\u001b[0m\n",
            "\u001b[0;31mNameError\u001b[0m: name 'np' is not defined"
          ]
        }
      ]
    },
    {
      "cell_type": "code",
      "metadata": {
        "id": "8NZh9topXm_d"
      },
      "source": [
        ""
      ],
      "execution_count": null,
      "outputs": []
    },
    {
      "cell_type": "code",
      "metadata": {
        "colab": {
          "base_uri": "https://localhost:8080/"
        },
        "id": "nFPTIwcxX5uC",
        "outputId": "508b60d0-8603-4b99-c683-013631cd1899"
      },
      "source": [
        "start = time()\n",
        "precalcC = np.zeros((N,N))\n",
        "for i in range(0,N):\n",
        "    for j in range(0,N):\n",
        "       # print((i,j))\n",
        "        precalcC[i][j] = a_pcF(i,j)\n",
        "\n",
        "print(time()-start)\n",
        "print(precalcC)\n",
        "print(precalcB)\n",
        "print(precalcC - precalcB)"
      ],
      "execution_count": null,
      "outputs": [
        {
          "output_type": "stream",
          "text": [
            "0.0003390312194824219\n",
            "[[0. 1. 2. 3. 4. 5. 4. 3. 2. 1.]\n",
            " [1. 0. 1. 2. 3. 4. 5. 4. 3. 2.]\n",
            " [2. 1. 0. 1. 2. 3. 4. 5. 4. 3.]\n",
            " [3. 2. 1. 0. 1. 2. 3. 4. 5. 4.]\n",
            " [4. 3. 2. 1. 0. 1. 2. 3. 4. 5.]\n",
            " [5. 4. 3. 2. 1. 0. 1. 2. 3. 4.]\n",
            " [4. 5. 4. 3. 2. 1. 0. 1. 2. 3.]\n",
            " [3. 4. 5. 4. 3. 2. 1. 0. 1. 2.]\n",
            " [2. 3. 4. 5. 4. 3. 2. 1. 0. 1.]\n",
            " [1. 2. 3. 4. 5. 4. 3. 2. 1. 0.]]\n",
            "[[0. 1. 2. 3. 4. 5. 4. 3. 2. 1.]\n",
            " [1. 0. 1. 2. 3. 4. 5. 4. 3. 2.]\n",
            " [2. 1. 0. 1. 2. 3. 4. 5. 4. 3.]\n",
            " [3. 2. 1. 0. 1. 2. 3. 4. 5. 4.]\n",
            " [4. 3. 2. 1. 0. 1. 2. 3. 4. 5.]\n",
            " [5. 4. 3. 2. 1. 0. 1. 2. 3. 4.]\n",
            " [4. 5. 4. 3. 2. 1. 0. 1. 2. 3.]\n",
            " [3. 4. 5. 4. 3. 2. 1. 0. 1. 2.]\n",
            " [2. 3. 4. 5. 4. 3. 2. 1. 0. 1.]\n",
            " [1. 2. 3. 4. 5. 4. 3. 2. 1. 0.]]\n",
            "[[0. 0. 0. 0. 0. 0. 0. 0. 0. 0.]\n",
            " [0. 0. 0. 0. 0. 0. 0. 0. 0. 0.]\n",
            " [0. 0. 0. 0. 0. 0. 0. 0. 0. 0.]\n",
            " [0. 0. 0. 0. 0. 0. 0. 0. 0. 0.]\n",
            " [0. 0. 0. 0. 0. 0. 0. 0. 0. 0.]\n",
            " [0. 0. 0. 0. 0. 0. 0. 0. 0. 0.]\n",
            " [0. 0. 0. 0. 0. 0. 0. 0. 0. 0.]\n",
            " [0. 0. 0. 0. 0. 0. 0. 0. 0. 0.]\n",
            " [0. 0. 0. 0. 0. 0. 0. 0. 0. 0.]\n",
            " [0. 0. 0. 0. 0. 0. 0. 0. 0. 0.]]\n"
          ],
          "name": "stdout"
        }
      ]
    },
    {
      "cell_type": "code",
      "metadata": {
        "id": "9hbBwjyOecuG"
      },
      "source": [
        ""
      ],
      "execution_count": null,
      "outputs": []
    },
    {
      "cell_type": "code",
      "metadata": {
        "colab": {
          "base_uri": "https://localhost:8080/"
        },
        "id": "VXLq80cyYOKE",
        "outputId": "1903f9ca-310d-4173-895f-1335c5dbb51a"
      },
      "source": [
        ""
      ],
      "execution_count": null,
      "outputs": [
        {
          "output_type": "stream",
          "text": [
            "False\n"
          ],
          "name": "stdout"
        }
      ]
    },
    {
      "cell_type": "code",
      "metadata": {
        "id": "XW8nlFJYa81O"
      },
      "source": [
        ""
      ],
      "execution_count": null,
      "outputs": []
    }
  ]
}